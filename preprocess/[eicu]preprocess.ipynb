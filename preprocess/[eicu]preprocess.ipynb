{
 "cells": [
  {
   "cell_type": "code",
   "execution_count": 5,
   "metadata": {},
   "outputs": [],
   "source": [
    "import pandas as pd\n",
    "import numpy as np\n",
    "from datetime import datetime, timedelta\n",
    "from tqdm import tqdm\n",
    "import pickle\n",
    "import os"
   ]
  },
  {
   "cell_type": "code",
   "execution_count": 2,
   "metadata": {},
   "outputs": [
    {
     "name": "stderr",
     "output_type": "stream",
     "text": [
      "/tmp/ipykernel_96496/1654522396.py:3: DtypeWarning: Columns (11) have mixed types. Specify dtype option on import or set low_memory=False.\n",
      "  EICU_prescrip = pd.read_csv(EICU_DATA_PATH + 'medication.csv')\n",
      "/tmp/ipykernel_96496/1654522396.py:4: DtypeWarning: Columns (4) have mixed types. Specify dtype option on import or set low_memory=False.\n",
      "  EICU_input = pd.read_csv(EICU_DATA_PATH + 'infusionDrug.csv')\n"
     ]
    }
   ],
   "source": [
    "EICU_DATA_PATH = '../train/eicu/'\n",
    "EICU_lab = pd.read_csv(EICU_DATA_PATH + 'lab.csv')\n",
    "EICU_prescrip = pd.read_csv(EICU_DATA_PATH + 'medication.csv')\n",
    "EICU_input = pd.read_csv(EICU_DATA_PATH + 'infusionDrug.csv')\n",
    "EICU_label = pd.read_csv('../train/labels/eicu_labels.csv')"
   ]
  },
  {
   "cell_type": "code",
   "execution_count": null,
   "metadata": {},
   "outputs": [],
   "source": []
  },
  {
   "attachments": {},
   "cell_type": "markdown",
   "metadata": {},
   "source": [
    "### Lab table 중복처리\n",
    "labmeasurenamesystem, labmeasurenameinterface -> labmeasurename"
   ]
  },
  {
   "cell_type": "code",
   "execution_count": 4,
   "metadata": {},
   "outputs": [
    {
     "data": {
      "text/plain": [
       "labid                           0\n",
       "patientunitstayid               0\n",
       "labresultoffset                 0\n",
       "labtypeid                       0\n",
       "labname                         0\n",
       "labresult                   32375\n",
       "labresulttext                1135\n",
       "labmeasurenamesystem       192546\n",
       "labmeasurenameinterface    242225\n",
       "labresultrevisedoffset          0\n",
       "dtype: int64"
      ]
     },
     "execution_count": 4,
     "metadata": {},
     "output_type": "execute_result"
    }
   ],
   "source": [
    "EICU_lab.isna().sum()"
   ]
  },
  {
   "cell_type": "code",
   "execution_count": 6,
   "metadata": {},
   "outputs": [],
   "source": [
    "EICU_lab['labmeasurename'] = np.where(pd.notnull(EICU_lab['labmeasurenamesystem']) == True, \n",
    "                          EICU_lab['labmeasurenamesystem'], EICU_lab['labmeasurenameinterface'])"
   ]
  },
  {
   "cell_type": "code",
   "execution_count": 7,
   "metadata": {},
   "outputs": [
    {
     "data": {
      "text/plain": [
       "labid                           0\n",
       "patientunitstayid               0\n",
       "labresultoffset                 0\n",
       "labtypeid                       0\n",
       "labname                         0\n",
       "labresult                   32375\n",
       "labresulttext                1135\n",
       "labmeasurenamesystem       192546\n",
       "labmeasurenameinterface    242225\n",
       "labresultrevisedoffset          0\n",
       "labmeasurename             102145\n",
       "dtype: int64"
      ]
     },
     "execution_count": 7,
     "metadata": {},
     "output_type": "execute_result"
    }
   ],
   "source": [
    "EICU_lab.isna().sum()\n"
   ]
  },
  {
   "cell_type": "code",
   "execution_count": null,
   "metadata": {},
   "outputs": [],
   "source": []
  },
  {
   "attachments": {},
   "cell_type": "markdown",
   "metadata": {},
   "source": [
    "### Dictionary"
   ]
  },
  {
   "cell_type": "code",
   "execution_count": 32,
   "metadata": {},
   "outputs": [],
   "source": [
    "def make_data(lab, prescrip, input_):\n",
    "    \n",
    "    lab_columns = ['labresultoffset', 'labtypeid', 'labname', 'labresult', 'labresulttext', 'labmeasurename', 'labresultrevisedoffset']\n",
    "    prescrip_columns = ['drugorderoffset', 'drugstartoffset', 'drugivadmixture', 'drugordercancelled', 'drugname', 'drughiclseqno', 'dosage', 'routeadmin', 'frequency', 'loadingdose', 'prn', 'drugstopoffset', 'gtc']\n",
    "    input_columns = ['infusionoffset', 'drugname', 'drugrate', 'infusionrate', 'drugamount', 'volumeoffluid', 'patientweight']\n",
    "    \n",
    "    data = {}\n",
    "    labs = []\n",
    "    prescrips = []\n",
    "    inputs = []\n",
    "    \n",
    "    for i in range(len(lab)):\n",
    "        by_lab={}\n",
    "        for col in lab_columns:\n",
    "            by_lab[col] = lab[col].iloc[i]\n",
    "        labs.append(by_lab)\n",
    "        \n",
    "    for i in range(len(prescrip)):\n",
    "        by_prescrip={}\n",
    "        for col in prescrip_columns:\n",
    "            by_prescrip[col] = prescrip[col].iloc[i]\n",
    "        prescrips.append(by_prescrip)\n",
    "        \n",
    "    for i in range(len(input_)):\n",
    "        by_input={}\n",
    "        for col in input_columns:\n",
    "            by_input[col] = input_[col].iloc[i]\n",
    "        inputs.append(by_input)\n",
    "\n",
    "    data['labs'] = labs\n",
    "    data['prescrips'] = prescrips\n",
    "    data['inputs'] = inputs\n",
    "\n",
    "    return data"
   ]
  },
  {
   "cell_type": "code",
   "execution_count": 33,
   "metadata": {},
   "outputs": [],
   "source": [
    "\n",
    "def make_stayid_data(lab_data, prescrip_data, input_data, label_data):\n",
    "    final = []\n",
    "    for id in tqdm(label_data['patientunitstayid'].unique()):\n",
    "        dict_by_icuid = {}\n",
    "        \n",
    "        lab = EICU_lab[lab_data['patientunitstayid'] == id]\n",
    "        prescrip = EICU_prescrip[prescrip_data['patientunitstayid'] == id]\n",
    "        input_ = EICU_input[input_data['patientunitstayid'] == id]\n",
    "    \n",
    "        data = make_data(lab, prescrip, input_)\n",
    "        \n",
    "        dict_by_icuid['patientunitstayid'] = id\n",
    "        dict_by_icuid['label'] = label_data[label_data['patientunitstayid']==id].labels.iloc[0]\n",
    "        dict_by_icuid['data'] = data\n",
    "        \n",
    "        final.append(dict_by_icuid)\n",
    "    return final"
   ]
  },
  {
   "cell_type": "code",
   "execution_count": 34,
   "metadata": {},
   "outputs": [
    {
     "name": "stderr",
     "output_type": "stream",
     "text": [
      "100%|██████████| 101851/101851 [11:40<00:00, 145.41it/s]\n"
     ]
    }
   ],
   "source": [
    "EICU_final = make_stayid_data(EICU_lab, EICU_prescrip, EICU_input, EICU_label)"
   ]
  },
  {
   "cell_type": "code",
   "execution_count": 37,
   "metadata": {},
   "outputs": [
    {
     "data": {
      "text/plain": [
       "dict_keys(['labs', 'prescrips', 'inputs'])"
      ]
     },
     "execution_count": 37,
     "metadata": {},
     "output_type": "execute_result"
    }
   ],
   "source": [
    "EICU_final[0]['data'].keys()"
   ]
  },
  {
   "cell_type": "code",
   "execution_count": 38,
   "metadata": {},
   "outputs": [],
   "source": [
    "with open('./eicu.pickle', 'wb') as f:\n",
    "    pickle.dump(EICU_final, f)"
   ]
  },
  {
   "cell_type": "code",
   "execution_count": null,
   "metadata": {},
   "outputs": [],
   "source": []
  }
 ],
 "metadata": {
  "kernelspec": {
   "display_name": "healthcare",
   "language": "python",
   "name": "python3"
  },
  "language_info": {
   "codemirror_mode": {
    "name": "ipython",
    "version": 3
   },
   "file_extension": ".py",
   "mimetype": "text/x-python",
   "name": "python",
   "nbconvert_exporter": "python",
   "pygments_lexer": "ipython3",
   "version": "3.10.9"
  },
  "orig_nbformat": 4
 },
 "nbformat": 4,
 "nbformat_minor": 2
}
