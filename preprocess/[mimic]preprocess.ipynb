{
 "cells": [
  {
   "cell_type": "code",
   "execution_count": 1,
   "metadata": {},
   "outputs": [],
   "source": [
    "import pandas as pd\n",
    "from datetime import datetime, timedelta\n",
    "from tqdm import tqdm\n",
    "import pickle\n",
    "import os"
   ]
  },
  {
   "cell_type": "code",
   "execution_count": 2,
   "metadata": {},
   "outputs": [],
   "source": [
    "with open('./mimiciii/III_label.pickle', 'rb') as f:\n",
    "    III_label = pickle.load(f)\n",
    "with open('./mimiciii/III_lab.pickle', 'rb') as f:\n",
    "    III_lab = pickle.load(f)\n",
    "with open('./mimiciii/III_prescrip.pickle', 'rb') as f:\n",
    "    III_prescrip = pickle.load(f)\n",
    "with open('./mimiciii/III_input.pickle', 'rb') as f:\n",
    "    III_input = pickle.load(f)\n",
    "with open('./mimiciii/III_icustay.pickle', 'rb') as f:\n",
    "    III_icustay = pickle.load(f)"
   ]
  },
  {
   "cell_type": "code",
   "execution_count": 3,
   "metadata": {},
   "outputs": [],
   "source": [
    "with open('./mimiciv/IV_label.pickle', 'rb') as f:\n",
    "    IV_label = pickle.load(f)\n",
    "with open('./mimiciv/IV_lab.pickle', 'rb') as f:\n",
    "    IV_lab = pickle.load(f)\n",
    "with open('./mimiciv/IV_prescrip.pickle', 'rb') as f:\n",
    "    IV_prescrip = pickle.load(f)\n",
    "with open('./mimiciv/IV_input.pickle', 'rb') as f:\n",
    "    IV_input = pickle.load(f)\n",
    "with open('./mimiciv/IV_icustay.pickle', 'rb') as f:\n",
    "    IV_icustay = pickle.load(f)"
   ]
  },
  {
   "cell_type": "code",
   "execution_count": null,
   "metadata": {},
   "outputs": [],
   "source": []
  },
  {
   "attachments": {},
   "cell_type": "markdown",
   "metadata": {},
   "source": [
    "## Look-up table"
   ]
  },
  {
   "cell_type": "code",
   "execution_count": null,
   "metadata": {},
   "outputs": [],
   "source": []
  },
  {
   "cell_type": "code",
   "execution_count": null,
   "metadata": {},
   "outputs": [],
   "source": []
  },
  {
   "cell_type": "code",
   "execution_count": null,
   "metadata": {},
   "outputs": [],
   "source": []
  },
  {
   "attachments": {},
   "cell_type": "markdown",
   "metadata": {},
   "source": [
    "## Dictionary"
   ]
  },
  {
   "cell_type": "code",
   "execution_count": 4,
   "metadata": {},
   "outputs": [],
   "source": [
    "def make_charttime_data(data_type, lab, prescrip, input_):\n",
    "    \n",
    "    if data_type == 'III':\n",
    "        LAB_TIME = 'CHARTTIME'\n",
    "        PRESCRIP_TIME = 'STARTDATE'\n",
    "        INPUT_TIME = 'CHARTTIME'\n",
    "        lab_columns = ['ITEMID', 'VALUE', 'VALUEUOM', 'FLAG']\n",
    "        prescrip_columns = ['DRUG_TYPE', 'DRUG', 'PROD_STRENGTH', 'DOSE_VAL_RX', 'DOSE_UNIT_RX', 'FORM_VAL_DISP', 'FORM_UNIT_DISP', 'ROUTE']\n",
    "        input_columns = ['ITEMID', 'AMOUNT', 'AMOUNTUOM', 'ORIGINALAMOUNT']\n",
    "    \n",
    "    elif data_type == 'IV':\n",
    "        LAB_TIME = 'charttime'\n",
    "        PRESCRIP_TIME = 'starttime'\n",
    "        INPUT_TIME = 'starttime'\n",
    "        lab_columns = ['itemid', 'value', 'valueuom', 'ref_range_lower', 'ref_range_upper', 'flag']\n",
    "        prescrip_columns = ['pharmacy_id', 'drug_type', 'drug', 'formulary_drug_cd', 'gsn', 'ndc', 'prod_strength', 'dose_val_rx', 'dose_unit_rx', 'form_val_disp', 'form_unit_disp', 'route']\n",
    "        input_columns = ['itemid', 'amount', 'amountuom', 'rate', 'rateuom', 'originalamount', 'originalrate']\n",
    "            \n",
    "    data=[]\n",
    "    unique_time_list = list(set(list(lab[LAB_TIME])+list(prescrip[PRESCRIP_TIME])+list(input_[INPUT_TIME])))\n",
    "    unique_time_list.sort()\n",
    "    for time in unique_time_list:\n",
    "        by_charttime = {}\n",
    "        labs=[]\n",
    "        prescrips=[]\n",
    "        inputs=[]\n",
    "\n",
    "        lab_df = lab[lab[LAB_TIME]==time]\n",
    "        prescrip_df = prescrip[prescrip[PRESCRIP_TIME]==time]\n",
    "        input_df = input_[input_[INPUT_TIME]==time]\n",
    "\n",
    "        for i in range(len(lab_df)):\n",
    "            by_lab={}\n",
    "            for col in lab_columns:\n",
    "                by_lab[col] = lab_df[col].iloc[i]\n",
    "            labs.append(by_lab)\n",
    "            \n",
    "        for i in range(len(prescrip_df)):\n",
    "            by_prescrip={}\n",
    "            for col in prescrip_columns:\n",
    "                by_prescrip[col] = prescrip_df[col].iloc[i]\n",
    "            prescrips.append(by_prescrip) \n",
    "            \n",
    "        for i in range(len(input_df)):\n",
    "            by_input={}\n",
    "            for col in input_columns:\n",
    "                by_input[col] = input_df[col].iloc[i]\n",
    "            inputs.append(by_input)\n",
    "\n",
    "        by_charttime['time'] = time\n",
    "        by_charttime['labs'] = labs\n",
    "        by_charttime['prescrips'] = prescrips\n",
    "        by_charttime['inputs'] = inputs\n",
    "        data.append(by_charttime)\n",
    "\n",
    "    return data"
   ]
  },
  {
   "cell_type": "code",
   "execution_count": 5,
   "metadata": {},
   "outputs": [],
   "source": [
    "def make_stayid_data(data_type, lab_data, prescrip_data, input_data, label_data, icustay_data):\n",
    "    if data_type == 'III':\n",
    "        ICUSTAY_ID = 'ICUSTAY_ID'\n",
    "        INTIME = 'INTIME'\n",
    "    elif data_type == 'IV':\n",
    "        ICUSTAY_ID = 'stay_id'\n",
    "        INTIME = 'intime'\n",
    "        \n",
    "    final = []\n",
    "    for id in tqdm(label_data[ICUSTAY_ID].unique()): # III_label.ICUSTAY_ID.unique()\n",
    "        dict_by_icuid = {}\n",
    "        lab = lab_data[lab_data[ICUSTAY_ID] == id]\n",
    "        prescrip = prescrip_data[prescrip_data[ICUSTAY_ID] == id]\n",
    "        input_ = input_data[input_data[ICUSTAY_ID] == id]\n",
    "        \n",
    "        data = make_charttime_data(data_type, lab, prescrip, input_)\n",
    "        \n",
    "        dict_by_icuid['icustay_id'] = id\n",
    "        dict_by_icuid['label'] = label_data[label_data[ICUSTAY_ID]==id].labels.iloc[0]\n",
    "        dict_by_icuid['intime'] = icustay_data[icustay_data[ICUSTAY_ID]==id][INTIME].iloc[0]\n",
    "        dict_by_icuid['data'] = data\n",
    "        \n",
    "        final.append(dict_by_icuid)\n",
    "    return final"
   ]
  },
  {
   "cell_type": "code",
   "execution_count": 6,
   "metadata": {},
   "outputs": [
    {
     "name": "stderr",
     "output_type": "stream",
     "text": [
      "100%|██████████| 46159/46159 [19:44<00:00, 38.98it/s]\n"
     ]
    }
   ],
   "source": [
    "IV_final = make_stayid_data('IV', IV_lab, IV_prescrip, IV_input, IV_label, IV_icustay)"
   ]
  },
  {
   "cell_type": "code",
   "execution_count": 22,
   "metadata": {},
   "outputs": [
    {
     "name": "stderr",
     "output_type": "stream",
     "text": [
      "100%|██████████| 34987/34987 [10:57<00:00, 53.25it/s] \n"
     ]
    }
   ],
   "source": [
    "III_final = make_stayid_data('III', III_lab, III_prescrip, III_input, III_label, III_icustay)"
   ]
  },
  {
   "cell_type": "code",
   "execution_count": null,
   "metadata": {},
   "outputs": [],
   "source": [
    "# 첫번째 icustay_id\n",
    "III_final[0]"
   ]
  },
  {
   "cell_type": "code",
   "execution_count": null,
   "metadata": {},
   "outputs": [
    {
     "data": {
      "text/plain": [
       "dict_keys(['time', 'labs', 'prescrips', 'inputs'])"
      ]
     },
     "execution_count": 20,
     "metadata": {},
     "output_type": "execute_result"
    }
   ],
   "source": [
    "# data 구성\n",
    "III_final[0]['data'][0].keys()"
   ]
  },
  {
   "cell_type": "code",
   "execution_count": 23,
   "metadata": {},
   "outputs": [],
   "source": [
    "with open('./mimiciii.pickle', 'wb') as f:\n",
    "    pickle.dump(III_final, f)\n",
    "with open('./mimiciv.pickle', 'wb') as f:\n",
    "    pickle.dump(IV_final, f)"
   ]
  },
  {
   "cell_type": "code",
   "execution_count": null,
   "metadata": {},
   "outputs": [],
   "source": []
  }
 ],
 "metadata": {
  "kernelspec": {
   "display_name": "healthcare",
   "language": "python",
   "name": "python3"
  },
  "language_info": {
   "codemirror_mode": {
    "name": "ipython",
    "version": 3
   },
   "file_extension": ".py",
   "mimetype": "text/x-python",
   "name": "python",
   "nbconvert_exporter": "python",
   "pygments_lexer": "ipython3",
   "version": "3.10.9"
  },
  "orig_nbformat": 4
 },
 "nbformat": 4,
 "nbformat_minor": 2
}
