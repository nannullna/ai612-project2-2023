{
 "cells": [
  {
   "cell_type": "code",
   "execution_count": 1,
   "metadata": {},
   "outputs": [],
   "source": [
    "import argparse\n",
    "import pandas as pd\n",
    "import numpy as np\n",
    "from datetime import datetime, timedelta\n",
    "from tqdm import tqdm\n",
    "import pickle\n",
    "import os"
   ]
  },
  {
   "cell_type": "code",
   "execution_count": null,
   "metadata": {},
   "outputs": [],
   "source": [
    "with open('./inter/mimiciii_lab.pickle', 'rb') as f:\n",
    "    III_lab = pickle.load(f)\n",
    "with open('./inter/mimiciii_prescrip.pickle', 'rb') as f:\n",
    "    III_prescrip = pickle.load(f)\n",
    "with open('./inter/mimiciii_input.pickle', 'rb') as f:\n",
    "    III_input = pickle.load(f)\n",
    "    \n",
    "with open('./inter/mimiciv_lab.pickle', 'rb') as f:\n",
    "    IV_lab = pickle.load(f)\n",
    "with open('./inter/mimiciv_prescrip.pickle', 'rb') as f:\n",
    "    IV_prescrip = pickle.load(f)\n",
    "with open('./inter/mimiciv_input.pickle', 'rb') as f:\n",
    "    IV_input = pickle.load(f)\n",
    "    \n",
    "with open('./inter/eicu_lab.pickle', 'rb') as f:\n",
    "    EICU_lab = pickle.load(f)\n",
    "with open('./inter/eicu_prescrip.pickle', 'rb') as f:\n",
    "    EICU_prescrip = pickle.load(f)\n",
    "with open('./inter/eicu_input.pickle', 'rb') as f:\n",
    "    EICU_input = pickle.load(f)"
   ]
  }
 ],
 "metadata": {
  "kernelspec": {
   "display_name": "healthcare",
   "language": "python",
   "name": "python3"
  },
  "language_info": {
   "codemirror_mode": {
    "name": "ipython",
    "version": 3
   },
   "file_extension": ".py",
   "mimetype": "text/x-python",
   "name": "python",
   "nbconvert_exporter": "python",
   "pygments_lexer": "ipython3",
   "version": "3.10.9"
  },
  "orig_nbformat": 4
 },
 "nbformat": 4,
 "nbformat_minor": 2
}
