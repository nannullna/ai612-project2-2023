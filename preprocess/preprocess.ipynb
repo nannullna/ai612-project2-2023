{
 "cells": [
  {
   "cell_type": "code",
   "execution_count": 15,
   "metadata": {},
   "outputs": [],
   "source": [
    "import pandas as pd\n",
    "from datetime import datetime, timedelta\n",
    "from tqdm import tqdm\n",
    "import pickle\n",
    "import os\n"
   ]
  },
  {
   "attachments": {},
   "cell_type": "markdown",
   "metadata": {},
   "source": [
    "## MIMIC - III, IV"
   ]
  },
  {
   "cell_type": "code",
   "execution_count": 2,
   "metadata": {},
   "outputs": [],
   "source": [
    "III_DATA_PATH = '../train/mimiciii/'\n",
    "III_lab = pd.read_csv(III_DATA_PATH + 'LABEVENTS.csv')\n",
    "III_prescrip = pd.read_csv(III_DATA_PATH + 'PRESCRIPTIONS.csv')\n",
    "III_input_cv = pd.read_csv(III_DATA_PATH + 'INPUTEVENTS_CV.csv')\n",
    "III_input_mv = pd.read_csv(III_DATA_PATH + 'INPUTEVENTS_MV.csv')\n",
    "III_icustay = pd.read_csv(III_DATA_PATH + 'ICUSTAYS.csv')\n",
    "III_label = pd.read_csv('../train/labels/mimiciii_labels.csv')"
   ]
  },
  {
   "cell_type": "code",
   "execution_count": 3,
   "metadata": {},
   "outputs": [
    {
     "name": "stderr",
     "output_type": "stream",
     "text": [
      "/tmp/ipykernel_30132/333375981.py:3: DtypeWarning: Columns (10) have mixed types. Specify dtype option on import or set low_memory=False.\n",
      "  IV_prescrip = pd.read_csv(IV_DATA_PATH + 'prescriptions.csv')\n"
     ]
    }
   ],
   "source": [
    "IV_DATA_PATH = '../train/mimiciv/'\n",
    "IV_lab = pd.read_csv(IV_DATA_PATH + 'labevents.csv')\n",
    "IV_prescrip = pd.read_csv(IV_DATA_PATH + 'prescriptions.csv')\n",
    "IV_input = pd.read_csv(IV_DATA_PATH + 'inputevents.csv')\n",
    "IV_icustay = pd.read_csv(IV_DATA_PATH + 'icustays.csv')\n",
    "IV_label = pd.read_csv('../train/labels/mimiciv_labels.csv')"
   ]
  },
  {
   "attachments": {},
   "cell_type": "markdown",
   "metadata": {},
   "source": [
    "### ICUSTAY_ID 칼럼 추가"
   ]
  },
  {
   "cell_type": "code",
   "execution_count": 4,
   "metadata": {},
   "outputs": [
    {
     "data": {
      "text/plain": [
       "3027232    1\n",
       "3001991    1\n",
       "3002918    1\n",
       "3010318    1\n",
       "3013244    1\n",
       "Name: ICUSTAY_ID, dtype: int64"
      ]
     },
     "execution_count": 4,
     "metadata": {},
     "output_type": "execute_result"
    }
   ],
   "source": [
    "III_icustay.ICUSTAY_ID.value_counts().nlargest()"
   ]
  },
  {
   "cell_type": "code",
   "execution_count": 5,
   "metadata": {},
   "outputs": [
    {
     "data": {
      "text/plain": [
       "3034824    1\n",
       "3038223    1\n",
       "3049442    1\n",
       "3042925    1\n",
       "3021295    1\n",
       "Name: stay_id, dtype: int64"
      ]
     },
     "execution_count": 5,
     "metadata": {},
     "output_type": "execute_result"
    }
   ],
   "source": [
    "IV_icustay.stay_id.value_counts().nlargest()"
   ]
  },
  {
   "cell_type": "code",
   "execution_count": 6,
   "metadata": {},
   "outputs": [],
   "source": [
    "III_lab['ICUSTAY_ID'] = int(0)\n",
    "IV_lab['stay_id'] = int(0)"
   ]
  },
  {
   "cell_type": "code",
   "execution_count": 7,
   "metadata": {},
   "outputs": [
    {
     "name": "stderr",
     "output_type": "stream",
     "text": [
      "  0%|          | 0/1958619 [00:00<?, ?it/s]/tmp/ipykernel_30132/1142325161.py:10: SettingWithCopyWarning: \n",
      "A value is trying to be set on a copy of a slice from a DataFrame\n",
      "\n",
      "See the caveats in the documentation: https://pandas.pydata.org/pandas-docs/stable/user_guide/indexing.html#returning-a-view-versus-a-copy\n",
      "  III_lab.ICUSTAY_ID.iloc[i] = III_icustay.ICUSTAY_ID.iloc[idx]\n",
      "100%|██████████| 1958619/1958619 [17:58<00:00, 1816.77it/s]\n"
     ]
    }
   ],
   "source": [
    "# III - lab\n",
    "for i in tqdm(range(len(III_lab))): # i: lab index\n",
    "    hadm_id = III_lab.HADM_ID.iloc[i]\n",
    "    charttime = III_lab.CHARTTIME.iloc[i]\n",
    "    idx = III_icustay[III_icustay.HADM_ID == hadm_id].index[0] # idx: icustay index\n",
    "    intime = III_icustay.INTIME.iloc[idx]\n",
    "    outtime = III_icustay.OUTTIME.iloc[idx]\n",
    "    \n",
    "    if datetime.strptime(intime,'%Y-%m-%d %H:%M:%S') <= datetime.strptime(charttime,'%Y-%m-%d %H:%M:%S') <= datetime.strptime(outtime,'%Y-%m-%d %H:%M:%S'):\n",
    "        III_lab.ICUSTAY_ID.iloc[i] = III_icustay.ICUSTAY_ID.iloc[idx]"
   ]
  },
  {
   "cell_type": "code",
   "execution_count": 8,
   "metadata": {},
   "outputs": [
    {
     "name": "stderr",
     "output_type": "stream",
     "text": [
      "  0%|          | 0/2996387 [00:00<?, ?it/s]/tmp/ipykernel_30132/2876006535.py:10: SettingWithCopyWarning: \n",
      "A value is trying to be set on a copy of a slice from a DataFrame\n",
      "\n",
      "See the caveats in the documentation: https://pandas.pydata.org/pandas-docs/stable/user_guide/indexing.html#returning-a-view-versus-a-copy\n",
      "  IV_lab.stay_id.iloc[i] = IV_icustay.stay_id.iloc[idx]\n",
      "100%|██████████| 2996387/2996387 [28:18<00:00, 1764.42it/s]\n"
     ]
    }
   ],
   "source": [
    "# IV - lab\n",
    "for i in tqdm(range(len(IV_lab))): # i: lab index\n",
    "    hadm_id = IV_lab.hadm_id.iloc[i]\n",
    "    charttime = IV_lab.charttime.iloc[i]\n",
    "    idx = IV_icustay[IV_icustay.hadm_id == hadm_id].index[0] # idx: icustay index\n",
    "    intime = IV_icustay.intime.iloc[idx]\n",
    "    outtime = IV_icustay.outtime.iloc[idx]\n",
    "    \n",
    "    if datetime.strptime(intime,'%Y-%m-%d %H:%M:%S') <= datetime.strptime(charttime,'%Y-%m-%d %H:%M:%S') <= datetime.strptime(outtime,'%Y-%m-%d %H:%M:%S'):\n",
    "        IV_lab.stay_id.iloc[i] = IV_icustay.stay_id.iloc[idx]"
   ]
  },
  {
   "cell_type": "code",
   "execution_count": 9,
   "metadata": {},
   "outputs": [],
   "source": [
    "IV_prescrip['stay_id'] = int(0)"
   ]
  },
  {
   "cell_type": "code",
   "execution_count": 10,
   "metadata": {},
   "outputs": [
    {
     "name": "stderr",
     "output_type": "stream",
     "text": [
      "  0%|          | 0/1298862 [00:00<?, ?it/s]/tmp/ipykernel_30132/2302662706.py:10: SettingWithCopyWarning: \n",
      "A value is trying to be set on a copy of a slice from a DataFrame\n",
      "\n",
      "See the caveats in the documentation: https://pandas.pydata.org/pandas-docs/stable/user_guide/indexing.html#returning-a-view-versus-a-copy\n",
      "  IV_prescrip.stay_id.iloc[i] = IV_icustay.stay_id.iloc[idx]\n",
      "100%|██████████| 1298862/1298862 [12:22<00:00, 1748.73it/s]\n"
     ]
    }
   ],
   "source": [
    "# IV - Prescrip\n",
    "for i in tqdm(range(len(IV_prescrip))): # i: lab index\n",
    "    hadm_id = IV_prescrip.hadm_id.iloc[i]\n",
    "    starttime = IV_prescrip.starttime.iloc[i]\n",
    "    idx = IV_icustay[IV_icustay.hadm_id == hadm_id].index[0] # idx: icustay index\n",
    "    intime = IV_icustay.intime.iloc[idx]\n",
    "    outtime = IV_icustay.outtime.iloc[idx]\n",
    "    \n",
    "    if datetime.strptime(intime,'%Y-%m-%d %H:%M:%S') <= datetime.strptime(starttime,'%Y-%m-%d %H:%M:%S') <= datetime.strptime(outtime,'%Y-%m-%d %H:%M:%S'):\n",
    "        IV_prescrip.stay_id.iloc[i] = IV_icustay.stay_id.iloc[idx]"
   ]
  },
  {
   "cell_type": "code",
   "execution_count": null,
   "metadata": {},
   "outputs": [],
   "source": []
  },
  {
   "attachments": {},
   "cell_type": "markdown",
   "metadata": {},
   "source": [
    "### Concat the inputCV+inputMV for MIMIC-III"
   ]
  },
  {
   "cell_type": "code",
   "execution_count": 12,
   "metadata": {},
   "outputs": [
    {
     "data": {
      "text/html": [
       "<div>\n",
       "<style scoped>\n",
       "    .dataframe tbody tr th:only-of-type {\n",
       "        vertical-align: middle;\n",
       "    }\n",
       "\n",
       "    .dataframe tbody tr th {\n",
       "        vertical-align: top;\n",
       "    }\n",
       "\n",
       "    .dataframe thead th {\n",
       "        text-align: right;\n",
       "    }\n",
       "</style>\n",
       "<table border=\"1\" class=\"dataframe\">\n",
       "  <thead>\n",
       "    <tr style=\"text-align: right;\">\n",
       "      <th></th>\n",
       "      <th>ICUSTAY_ID</th>\n",
       "      <th>ITEMID</th>\n",
       "      <th>AMOUNT</th>\n",
       "      <th>AMOUNTUOM</th>\n",
       "      <th>RATE</th>\n",
       "      <th>RATEUOM</th>\n",
       "      <th>ORIGINALAMOUNT</th>\n",
       "      <th>ORIGINALRATE</th>\n",
       "      <th>CHARTTIME</th>\n",
       "    </tr>\n",
       "  </thead>\n",
       "  <tbody>\n",
       "    <tr>\n",
       "      <th>0</th>\n",
       "      <td>3000000</td>\n",
       "      <td>30066</td>\n",
       "      <td>22.000000</td>\n",
       "      <td>ml</td>\n",
       "      <td>NaN</td>\n",
       "      <td>NaN</td>\n",
       "      <td>NaN</td>\n",
       "      <td>22.000000</td>\n",
       "      <td>2166-11-08 16:00:00</td>\n",
       "    </tr>\n",
       "    <tr>\n",
       "      <th>1</th>\n",
       "      <td>3000000</td>\n",
       "      <td>30131</td>\n",
       "      <td>NaN</td>\n",
       "      <td>NaN</td>\n",
       "      <td>60.000000</td>\n",
       "      <td>mcgkgmin</td>\n",
       "      <td>NaN</td>\n",
       "      <td>NaN</td>\n",
       "      <td>2166-11-08 17:00:00</td>\n",
       "    </tr>\n",
       "    <tr>\n",
       "      <th>2</th>\n",
       "      <td>3000000</td>\n",
       "      <td>30131</td>\n",
       "      <td>NaN</td>\n",
       "      <td>NaN</td>\n",
       "      <td>60.000000</td>\n",
       "      <td>mcgkgmin</td>\n",
       "      <td>NaN</td>\n",
       "      <td>NaN</td>\n",
       "      <td>2166-11-08 16:00:00</td>\n",
       "    </tr>\n",
       "    <tr>\n",
       "      <th>3</th>\n",
       "      <td>3000000</td>\n",
       "      <td>30131</td>\n",
       "      <td>NaN</td>\n",
       "      <td>NaN</td>\n",
       "      <td>60.000000</td>\n",
       "      <td>mcgkgmin</td>\n",
       "      <td>NaN</td>\n",
       "      <td>NaN</td>\n",
       "      <td>2166-11-08 15:00:00</td>\n",
       "    </tr>\n",
       "    <tr>\n",
       "      <th>4</th>\n",
       "      <td>3000000</td>\n",
       "      <td>30131</td>\n",
       "      <td>NaN</td>\n",
       "      <td>NaN</td>\n",
       "      <td>60.000000</td>\n",
       "      <td>mcgkgmin</td>\n",
       "      <td>NaN</td>\n",
       "      <td>NaN</td>\n",
       "      <td>2166-11-08 18:00:00</td>\n",
       "    </tr>\n",
       "    <tr>\n",
       "      <th>...</th>\n",
       "      <td>...</td>\n",
       "      <td>...</td>\n",
       "      <td>...</td>\n",
       "      <td>...</td>\n",
       "      <td>...</td>\n",
       "      <td>...</td>\n",
       "      <td>...</td>\n",
       "      <td>...</td>\n",
       "      <td>...</td>\n",
       "    </tr>\n",
       "    <tr>\n",
       "      <th>1545060</th>\n",
       "      <td>3038871</td>\n",
       "      <td>225158</td>\n",
       "      <td>151.326386</td>\n",
       "      <td>ml</td>\n",
       "      <td>34.005929</td>\n",
       "      <td>mL/hour</td>\n",
       "      <td>218.771470</td>\n",
       "      <td>33.975201</td>\n",
       "      <td>2131-09-24 09:12:00</td>\n",
       "    </tr>\n",
       "    <tr>\n",
       "      <th>1545061</th>\n",
       "      <td>3038871</td>\n",
       "      <td>221906</td>\n",
       "      <td>4.842444</td>\n",
       "      <td>mg</td>\n",
       "      <td>0.200182</td>\n",
       "      <td>mcg/kg/min</td>\n",
       "      <td>7.000688</td>\n",
       "      <td>0.200000</td>\n",
       "      <td>2131-09-24 09:12:00</td>\n",
       "    </tr>\n",
       "    <tr>\n",
       "      <th>1545062</th>\n",
       "      <td>3038871</td>\n",
       "      <td>220949</td>\n",
       "      <td>50.000000</td>\n",
       "      <td>ml</td>\n",
       "      <td>NaN</td>\n",
       "      <td>NaN</td>\n",
       "      <td>50.000000</td>\n",
       "      <td>0.000000</td>\n",
       "      <td>2131-09-24 09:52:00</td>\n",
       "    </tr>\n",
       "    <tr>\n",
       "      <th>1545063</th>\n",
       "      <td>3038871</td>\n",
       "      <td>225943</td>\n",
       "      <td>2.500000</td>\n",
       "      <td>ml</td>\n",
       "      <td>7.142857</td>\n",
       "      <td>mL/hour</td>\n",
       "      <td>2.500001</td>\n",
       "      <td>7.136620</td>\n",
       "      <td>2131-09-24 13:39:00</td>\n",
       "    </tr>\n",
       "    <tr>\n",
       "      <th>1545064</th>\n",
       "      <td>3038871</td>\n",
       "      <td>225943</td>\n",
       "      <td>15.522390</td>\n",
       "      <td>ml</td>\n",
       "      <td>38.805975</td>\n",
       "      <td>mL/hour</td>\n",
       "      <td>100.000000</td>\n",
       "      <td>38.043369</td>\n",
       "      <td>2131-09-24 11:16:00</td>\n",
       "    </tr>\n",
       "  </tbody>\n",
       "</table>\n",
       "<p>1545065 rows × 9 columns</p>\n",
       "</div>"
      ],
      "text/plain": [
       "         ICUSTAY_ID  ITEMID      AMOUNT AMOUNTUOM       RATE     RATEUOM  \\\n",
       "0           3000000   30066   22.000000        ml        NaN         NaN   \n",
       "1           3000000   30131         NaN       NaN  60.000000    mcgkgmin   \n",
       "2           3000000   30131         NaN       NaN  60.000000    mcgkgmin   \n",
       "3           3000000   30131         NaN       NaN  60.000000    mcgkgmin   \n",
       "4           3000000   30131         NaN       NaN  60.000000    mcgkgmin   \n",
       "...             ...     ...         ...       ...        ...         ...   \n",
       "1545060     3038871  225158  151.326386        ml  34.005929     mL/hour   \n",
       "1545061     3038871  221906    4.842444        mg   0.200182  mcg/kg/min   \n",
       "1545062     3038871  220949   50.000000        ml        NaN         NaN   \n",
       "1545063     3038871  225943    2.500000        ml   7.142857     mL/hour   \n",
       "1545064     3038871  225943   15.522390        ml  38.805975     mL/hour   \n",
       "\n",
       "         ORIGINALAMOUNT  ORIGINALRATE            CHARTTIME  \n",
       "0                   NaN     22.000000  2166-11-08 16:00:00  \n",
       "1                   NaN           NaN  2166-11-08 17:00:00  \n",
       "2                   NaN           NaN  2166-11-08 16:00:00  \n",
       "3                   NaN           NaN  2166-11-08 15:00:00  \n",
       "4                   NaN           NaN  2166-11-08 18:00:00  \n",
       "...                 ...           ...                  ...  \n",
       "1545060      218.771470     33.975201  2131-09-24 09:12:00  \n",
       "1545061        7.000688      0.200000  2131-09-24 09:12:00  \n",
       "1545062       50.000000      0.000000  2131-09-24 09:52:00  \n",
       "1545063        2.500001      7.136620  2131-09-24 13:39:00  \n",
       "1545064      100.000000     38.043369  2131-09-24 11:16:00  \n",
       "\n",
       "[1545065 rows x 9 columns]"
      ]
     },
     "execution_count": 12,
     "metadata": {},
     "output_type": "execute_result"
    }
   ],
   "source": [
    "col = ['ICUSTAY_ID', 'ITEMID', 'AMOUNT', 'AMOUNTUOM','RATE', 'RATEUOM', 'ORIGINALAMOUNT', 'ORIGINALRATE', 'CHARTTIME']\n",
    "III_input_mv.rename(columns = {'STARTTIME' : 'CHARTTIME'}, inplace = True)\n",
    "\n",
    "cv = III_input_cv[col]\n",
    "mv = III_input_mv[col]\n",
    "\n",
    "\n",
    "\n",
    "III_input = pd.concat([cv, mv], axis=0).sort_values('ICUSTAY_ID')\n",
    "III_input = III_input.reset_index(drop=True)\n",
    "III_input"
   ]
  },
  {
   "attachments": {},
   "cell_type": "markdown",
   "metadata": {},
   "source": [
    "### Save"
   ]
  },
  {
   "cell_type": "code",
   "execution_count": 16,
   "metadata": {},
   "outputs": [],
   "source": [
    "if not os.path.exists('./mimiciii'):\n",
    "            os.makedirs('./mimiciii')\n",
    "\n",
    "with open('./mimiciii/III_label.pickle', 'wb') as f:\n",
    "    pickle.dump(III_label, f)\n",
    "with open('./mimiciii/III_lab.pickle', 'wb') as f:\n",
    "    pickle.dump(III_lab, f)\n",
    "with open('./mimiciii/III_prescrip.pickle', 'wb') as f:\n",
    "    pickle.dump(III_prescrip, f)\n",
    "with open('./mimiciii/III_input.pickle', 'wb') as f:\n",
    "    pickle.dump(III_input, f)\n",
    "with open('./mimiciii/III_icustay.pickle', 'wb') as f:\n",
    "    pickle.dump(III_icustay, f)\n"
   ]
  },
  {
   "cell_type": "code",
   "execution_count": null,
   "metadata": {},
   "outputs": [],
   "source": [
    "if not os.path.exists('./mimiciv'):\n",
    "            os.makedirs('./mimiciv')\n",
    "\n",
    "with open('./mimiciv/IV_label.pickle', 'wb') as f:\n",
    "    pickle.dump(IV_label, f)\n",
    "with open('./mimiciv/IV_lab.pickle', 'wb') as f:\n",
    "    pickle.dump(IV_lab, f)\n",
    "with open('./mimiciv/IV_prescrip.pickle', 'wb') as f:\n",
    "    pickle.dump(IV_prescrip, f)\n",
    "with open('./mimiciv/IV_input.pickle', 'wb') as f:\n",
    "    pickle.dump(IV_input, f)\n",
    "with open('./mimiciv/IV_icustay.pickle', 'wb') as f:\n",
    "    pickle.dump(IV_icustay, f)"
   ]
  },
  {
   "cell_type": "code",
   "execution_count": 174,
   "metadata": {},
   "outputs": [],
   "source": [
    "with open('./mimiciii.pickle', 'rb') as f:\n",
    "    data = pickle.load(f)"
   ]
  },
  {
   "attachments": {},
   "cell_type": "markdown",
   "metadata": {},
   "source": [
    "### Dictionary"
   ]
  },
  {
   "cell_type": "code",
   "execution_count": 137,
   "metadata": {},
   "outputs": [
    {
     "data": {
      "text/plain": [
       "array([3013451, 3024613, 3003849, ..., 3030524, 3004964, 3025323])"
      ]
     },
     "execution_count": 137,
     "metadata": {},
     "output_type": "execute_result"
    }
   ],
   "source": [
    "III_label.ICUSTAY_ID.unique()"
   ]
  },
  {
   "cell_type": "code",
   "execution_count": 116,
   "metadata": {},
   "outputs": [],
   "source": [
    "def make_dict(df, charttime, columns, base_dict):\n",
    "    \n",
    "    for time in df[charttime].unique():\n",
    "        base_dict[time] = []\n",
    "        \n",
    "        # if time not in list(base_dict.keys()):\n",
    "        #     base_dict[time] = []\n",
    "        \n",
    "    for i in range(len(df)):\n",
    "        for col in (columns):\n",
    "            base_dict[df[charttime].iloc[i]].append(col)\n",
    "            base_dict[df[charttime].iloc[i]].append(str(df[col].iloc[i]))\n",
    "            \n",
    "    base_dict = dict(sorted(base_dict.items()))\n",
    "    \n",
    "    return base_dict"
   ]
  },
  {
   "cell_type": "markdown",
   "metadata": {},
   "source": [
    "def make_dict(df, charttime, columns, base_dict):\n",
    "    \n",
    "    for time in df[charttime].unique():\n",
    "        base_dict[time] = {}\n",
    "        \n",
    "    for i in range(len(df)):\n",
    "        for col in (columns):\n",
    "            base_dict[df[charttime].iloc[i]][col] = df[col].iloc[i]\n",
    "    \n",
    "    return base_dict"
   ]
  },
  {
   "cell_type": "code",
   "execution_count": 117,
   "metadata": {},
   "outputs": [],
   "source": [
    "III_lab_columns = ['ITEMID', 'VALUE', 'VALUEUOM', 'FLAG']\n",
    "III_prescrip_columns = ['DRUG_TYPE', 'DRUG', 'PROD_STRENGTH', 'DOSE_VAL_RX', 'DOSE_UNIT_RX', 'FORM_VAL_DISP', 'FORM_UNIT_DISP', 'ROUTE']\n",
    "III_input_columns = ['ITEMID', 'AMOUNT', 'AMOUNTUOM', 'ORIGINALAMOUNT']"
   ]
  },
  {
   "cell_type": "markdown",
   "metadata": {},
   "source": [
    "for id in tqdm(III_label.ICUSTAY_ID.unique()):\n",
    "    test = {}\n",
    "    lab = III_lab[III_lab.ICUSTAY_ID == id]\n",
    "    make_dict(lab, 'CHARTTIME', III_lab_columns, test)"
   ]
  },
  {
   "cell_type": "code",
   "execution_count": 118,
   "metadata": {},
   "outputs": [
    {
     "name": "stderr",
     "output_type": "stream",
     "text": [
      "100%|██████████| 34987/34987 [06:47<00:00, 85.92it/s] \n"
     ]
    }
   ],
   "source": [
    "III_dict_final = {}\n",
    "\n",
    "for id in tqdm(III_label.ICUSTAY_ID.unique()):\n",
    "    dict_by_icuid = {}\n",
    "    lab = III_lab[III_lab.ICUSTAY_ID == id]\n",
    "    prescrip = III_prescrip[III_prescrip.ICUSTAY_ID == id]\n",
    "    input_ = III_input[III_input.ICUSTAY_ID == id]\n",
    "    \n",
    "    make_dict(lab, 'CHARTTIME', III_lab_columns, dict_by_icuid)\n",
    "    make_dict(prescrip, 'STARTDATE', III_prescrip_columns, dict_by_icuid)\n",
    "    make_dict(input_, 'CHARTTIME', III_input_columns, dict_by_icuid)\n",
    "    III_dict_final[id] = dict_by_icuid\n"
   ]
  },
  {
   "cell_type": "code",
   "execution_count": 119,
   "metadata": {},
   "outputs": [
    {
     "data": {
      "text/plain": [
       "(34987, 34987)"
      ]
     },
     "execution_count": 119,
     "metadata": {},
     "output_type": "execute_result"
    }
   ],
   "source": [
    "len(III_dict_final.keys()), len(III_label)"
   ]
  },
  {
   "cell_type": "code",
   "execution_count": 136,
   "metadata": {},
   "outputs": [],
   "source": [
    "IV_lab_columns = ['itemid', 'value', 'valueuom', 'ref_range_lower', 'ref_range_upper', 'flag']\n",
    "IV_prescrip_columns = ['pharmacy_id', 'drug_type', 'drug', 'formulary_drug_cd', 'gsn', 'ndc', 'prod_strength', 'dose_val_rx', 'dose_unit_rx', 'form_val_disp', 'form_unit_disp', 'route']\n",
    "IV_input_columns = ['itemid', 'amount', 'amountuom', 'rate', 'rateuom', 'originalamount', 'originalrate']"
   ]
  },
  {
   "cell_type": "code",
   "execution_count": 137,
   "metadata": {},
   "outputs": [
    {
     "name": "stderr",
     "output_type": "stream",
     "text": [
      "100%|██████████| 46159/46159 [16:12<00:00, 47.48it/s]  \n"
     ]
    }
   ],
   "source": [
    "IV_dict_final = {}\n",
    "\n",
    "for id in tqdm(IV_label.stay_id.unique()):\n",
    "    dict_by_icuid = {}\n",
    "    lab = IV_lab[IV_lab.stay_id == id]\n",
    "    prescrip = IV_prescrip[IV_prescrip.stay_id == id]\n",
    "    input_ = IV_input[IV_input.stay_id == id]\n",
    "    \n",
    "    make_dict(lab, 'charttime', IV_lab_columns, dict_by_icuid)\n",
    "    make_dict(prescrip, 'starttime', IV_prescrip_columns, dict_by_icuid)\n",
    "    make_dict(input_, 'starttime', IV_input_columns, dict_by_icuid)\n",
    "    IV_dict_final[id] = dict_by_icuid"
   ]
  },
  {
   "cell_type": "code",
   "execution_count": 138,
   "metadata": {},
   "outputs": [
    {
     "data": {
      "text/plain": [
       "(46159, 46159)"
      ]
     },
     "execution_count": 138,
     "metadata": {},
     "output_type": "execute_result"
    }
   ],
   "source": [
    "len(IV_dict_final.keys()), len(IV_label)"
   ]
  },
  {
   "cell_type": "code",
   "execution_count": 143,
   "metadata": {},
   "outputs": [],
   "source": [
    "with open('./mimiciii.pickle', 'wb') as f:\n",
    "    pickle.dump(III_dict_final, f)\n",
    "with open('./mimiciv.pickle', 'wb') as f:\n",
    "    pickle.dump(IV_dict_final, f)"
   ]
  },
  {
   "cell_type": "code",
   "execution_count": null,
   "metadata": {},
   "outputs": [],
   "source": []
  }
 ],
 "metadata": {
  "kernelspec": {
   "display_name": "healthcare",
   "language": "python",
   "name": "python3"
  },
  "language_info": {
   "codemirror_mode": {
    "name": "ipython",
    "version": 3
   },
   "file_extension": ".py",
   "mimetype": "text/x-python",
   "name": "python",
   "nbconvert_exporter": "python",
   "pygments_lexer": "ipython3",
   "version": "3.10.9"
  },
  "orig_nbformat": 4,
  "vscode": {
   "interpreter": {
    "hash": "b49b1793d97f3359cccbe2730b6cde459743dd2ee316b7461102484bfb95ff9d"
   }
  }
 },
 "nbformat": 4,
 "nbformat_minor": 2
}
