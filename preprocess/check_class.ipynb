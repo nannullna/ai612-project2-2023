{
 "cells": [
  {
   "cell_type": "code",
   "execution_count": 123,
   "metadata": {},
   "outputs": [],
   "source": [
    "import pandas as pd\n",
    "from datetime import datetime, timedelta\n",
    "from tqdm import tqdm\n",
    "import pickle\n",
    "import os\n",
    "import numpy as np\n",
    "import matplotlib.pyplot as plt\n",
    "from collections import Counter\n",
    "import torch.nn.functional as F"
   ]
  },
  {
   "cell_type": "code",
   "execution_count": 124,
   "metadata": {},
   "outputs": [],
   "source": [
    "III_label = pd.read_csv('/data5/youngju/proj2/train/labels/mimiciii_labels.csv')\n",
    "IV_label = pd.read_csv('/data5/youngju/proj2/train/labels/mimiciv_labels.csv')\n",
    "EICU_label = pd.read_csv('/data5/youngju/proj2/train/labels/eicu_labels.csv')"
   ]
  },
  {
   "cell_type": "code",
   "execution_count": 125,
   "metadata": {},
   "outputs": [
    {
     "data": {
      "text/plain": [
       "Index(['patientunitstayid', 'labels'], dtype='object')"
      ]
     },
     "execution_count": 125,
     "metadata": {},
     "output_type": "execute_result"
    }
   ],
   "source": [
    "EICU_label.columns"
   ]
  },
  {
   "cell_type": "code",
   "execution_count": 126,
   "metadata": {},
   "outputs": [
    {
     "data": {
      "text/html": [
       "<div>\n",
       "<style scoped>\n",
       "    .dataframe tbody tr th:only-of-type {\n",
       "        vertical-align: middle;\n",
       "    }\n",
       "\n",
       "    .dataframe tbody tr th {\n",
       "        vertical-align: top;\n",
       "    }\n",
       "\n",
       "    .dataframe thead th {\n",
       "        text-align: right;\n",
       "    }\n",
       "</style>\n",
       "<table border=\"1\" class=\"dataframe\">\n",
       "  <thead>\n",
       "    <tr style=\"text-align: right;\">\n",
       "      <th></th>\n",
       "      <th>ICUSTAY_ID</th>\n",
       "      <th>labels</th>\n",
       "      <th>stay_id</th>\n",
       "      <th>patientunitstayid</th>\n",
       "    </tr>\n",
       "  </thead>\n",
       "  <tbody>\n",
       "    <tr>\n",
       "      <th>0</th>\n",
       "      <td>NaN</td>\n",
       "      <td>[0, 0, 0, 0, 0, 0, 0, 0, 0, 0, 0, 0, 0, 0, 0, ...</td>\n",
       "      <td>NaN</td>\n",
       "      <td>3012439.0</td>\n",
       "    </tr>\n",
       "    <tr>\n",
       "      <th>1</th>\n",
       "      <td>NaN</td>\n",
       "      <td>[0, 0, 0, 0, 0, 0, 0, 0, 0, 0, 0, 0, 0, 0, 0, ...</td>\n",
       "      <td>NaN</td>\n",
       "      <td>3111078.0</td>\n",
       "    </tr>\n",
       "    <tr>\n",
       "      <th>2</th>\n",
       "      <td>NaN</td>\n",
       "      <td>[0, 0, 0, 0, 0, 0, 0, 0, 0, 0, 0, 0, 0, 0, 0, ...</td>\n",
       "      <td>NaN</td>\n",
       "      <td>3104814.0</td>\n",
       "    </tr>\n",
       "    <tr>\n",
       "      <th>3</th>\n",
       "      <td>NaN</td>\n",
       "      <td>[0, 0, 0, 0, 0, 0, 0, 0, 0, 0, 0, 0, 0, 0, 0, ...</td>\n",
       "      <td>NaN</td>\n",
       "      <td>3052456.0</td>\n",
       "    </tr>\n",
       "    <tr>\n",
       "      <th>4</th>\n",
       "      <td>NaN</td>\n",
       "      <td>[0, 0, 0, 0, 0, 0, 0, 0, 0, 0, 0, 0, 0, 0, 0, ...</td>\n",
       "      <td>NaN</td>\n",
       "      <td>3007416.0</td>\n",
       "    </tr>\n",
       "    <tr>\n",
       "      <th>...</th>\n",
       "      <td>...</td>\n",
       "      <td>...</td>\n",
       "      <td>...</td>\n",
       "      <td>...</td>\n",
       "    </tr>\n",
       "    <tr>\n",
       "      <th>182992</th>\n",
       "      <td>NaN</td>\n",
       "      <td>[1, 1, 0, 1, 1, 1, 1, 1, 1, 1, 1, 1, 1, 0, 0, ...</td>\n",
       "      <td>3043765.0</td>\n",
       "      <td>NaN</td>\n",
       "    </tr>\n",
       "    <tr>\n",
       "      <th>182993</th>\n",
       "      <td>3006763.0</td>\n",
       "      <td>[1, 1, 0, 1, 1, 1, 1, 1, 1, 1, 1, 1, 1, 0, 1, ...</td>\n",
       "      <td>NaN</td>\n",
       "      <td>NaN</td>\n",
       "    </tr>\n",
       "    <tr>\n",
       "      <th>182994</th>\n",
       "      <td>NaN</td>\n",
       "      <td>[1, 1, 0, 1, 1, 1, 1, 1, 1, 1, 1, 1, 1, 0, 1, ...</td>\n",
       "      <td>3032563.0</td>\n",
       "      <td>NaN</td>\n",
       "    </tr>\n",
       "    <tr>\n",
       "      <th>182995</th>\n",
       "      <td>NaN</td>\n",
       "      <td>[1, 1, 0, 1, 1, 1, 1, 1, 1, 1, 1, 1, 1, 0, 1, ...</td>\n",
       "      <td>3012663.0</td>\n",
       "      <td>NaN</td>\n",
       "    </tr>\n",
       "    <tr>\n",
       "      <th>182996</th>\n",
       "      <td>NaN</td>\n",
       "      <td>[1, 1, 1, 0, 0, 0, 0, 0, 1, 1, 0, 0, 0, 0, 0, ...</td>\n",
       "      <td>3049989.0</td>\n",
       "      <td>NaN</td>\n",
       "    </tr>\n",
       "  </tbody>\n",
       "</table>\n",
       "<p>182997 rows × 4 columns</p>\n",
       "</div>"
      ],
      "text/plain": [
       "        ICUSTAY_ID                                             labels   \n",
       "0              NaN  [0, 0, 0, 0, 0, 0, 0, 0, 0, 0, 0, 0, 0, 0, 0, ...  \\\n",
       "1              NaN  [0, 0, 0, 0, 0, 0, 0, 0, 0, 0, 0, 0, 0, 0, 0, ...   \n",
       "2              NaN  [0, 0, 0, 0, 0, 0, 0, 0, 0, 0, 0, 0, 0, 0, 0, ...   \n",
       "3              NaN  [0, 0, 0, 0, 0, 0, 0, 0, 0, 0, 0, 0, 0, 0, 0, ...   \n",
       "4              NaN  [0, 0, 0, 0, 0, 0, 0, 0, 0, 0, 0, 0, 0, 0, 0, ...   \n",
       "...            ...                                                ...   \n",
       "182992         NaN  [1, 1, 0, 1, 1, 1, 1, 1, 1, 1, 1, 1, 1, 0, 0, ...   \n",
       "182993   3006763.0  [1, 1, 0, 1, 1, 1, 1, 1, 1, 1, 1, 1, 1, 0, 1, ...   \n",
       "182994         NaN  [1, 1, 0, 1, 1, 1, 1, 1, 1, 1, 1, 1, 1, 0, 1, ...   \n",
       "182995         NaN  [1, 1, 0, 1, 1, 1, 1, 1, 1, 1, 1, 1, 1, 0, 1, ...   \n",
       "182996         NaN  [1, 1, 1, 0, 0, 0, 0, 0, 1, 1, 0, 0, 0, 0, 0, ...   \n",
       "\n",
       "          stay_id  patientunitstayid  \n",
       "0             NaN          3012439.0  \n",
       "1             NaN          3111078.0  \n",
       "2             NaN          3104814.0  \n",
       "3             NaN          3052456.0  \n",
       "4             NaN          3007416.0  \n",
       "...           ...                ...  \n",
       "182992  3043765.0                NaN  \n",
       "182993        NaN                NaN  \n",
       "182994  3032563.0                NaN  \n",
       "182995  3012663.0                NaN  \n",
       "182996  3049989.0                NaN  \n",
       "\n",
       "[182997 rows x 4 columns]"
      ]
     },
     "execution_count": 126,
     "metadata": {},
     "output_type": "execute_result"
    }
   ],
   "source": [
    "inter = pd.concat([III_label, IV_label], axis=0).sort_values('labels')\n",
    "df = pd.concat([inter, EICU_label], axis=0).sort_values('labels')\n",
    "df = df.reset_index(drop=True)\n",
    "df"
   ]
  },
  {
   "cell_type": "code",
   "execution_count": 127,
   "metadata": {},
   "outputs": [],
   "source": [
    "def hist_num_class(df, task):\n",
    "    class_list = []\n",
    "    for i in range(len(df)):\n",
    "        class_list.append(eval(df['labels'][i])[task])\n",
    "    #plt.hist(class_list)\n",
    "    #plt.show()\n",
    "    return class_list"
   ]
  },
  {
   "cell_type": "code",
   "execution_count": 128,
   "metadata": {},
   "outputs": [
    {
     "name": "stderr",
     "output_type": "stream",
     "text": [
      "100%|██████████| 28/28 [02:16<00:00,  4.87s/it]\n"
     ]
    }
   ],
   "source": [
    "for i in tqdm(range(28)):\n",
    "    globals()[f'task_{i}'.format(i)] = hist_num_class(df, i)"
   ]
  },
  {
   "cell_type": "code",
   "execution_count": 182,
   "metadata": {},
   "outputs": [],
   "source": [
    "def make_weight_binary(task_list):\n",
    "    task_dct = Counter(task_list)\n",
    "    task_dct = dict(sorted(task_dct.items()))\n",
    "    #inv_list = []\n",
    "    return task_dct[0]/task_dct[1]"
   ]
  },
  {
   "cell_type": "code",
   "execution_count": 183,
   "metadata": {},
   "outputs": [
    {
     "name": "stdout",
     "output_type": "stream",
     "text": [
      "0번째 task에서의 positive weight: 122.39649359406609\n",
      "1번째 task에서의 positive weight: 11.715188993885493\n",
      "2번째 task에서의 positive weight: 12.792357552004823\n",
      "3번째 task에서의 positive weight: 3.278329787482758\n",
      "4번째 task에서의 positive weight: 5.132196233496415\n",
      "5번째 task에서의 positive weight: 1.0147419876911559\n",
      "6번째 task에서의 positive weight: 2.519037729318103\n",
      "7번째 task에서의 positive weight: 2.4699926048125604\n",
      "8번째 task에서의 positive weight: 2.6922099146540766\n",
      "9번째 task에서의 positive weight: 0.44384305247627087\n",
      "10번째 task에서의 positive weight: 1.2542961676336895\n",
      "11번째 task에서의 positive weight: 2.135550529454097\n",
      "12번째 task에서의 positive weight: 1.8028764416670495\n",
      "13번째 task에서의 positive weight: 247.2998643147897\n",
      "14번째 task에서의 positive weight: 15.08623417721519\n",
      "15번째 task에서의 positive weight: 6.097858971375378\n",
      "16번째 task에서의 positive weight: 51.43467048710602\n",
      "17번째 task에서의 positive weight: 2.4604126089669647\n",
      "18번째 task에서의 positive weight: 2.7652928952079177\n",
      "19번째 task에서의 positive weight: 2.2490057524323555\n",
      "20번째 task에서의 positive weight: 1.6697352104456926\n",
      "21번째 task에서의 positive weight: 7.4548604694141565\n"
     ]
    }
   ],
   "source": [
    "for i in range(0,22):\n",
    "    print(f'{i}번째 task에서의 positive weight:', make_weight_binary(globals()[f'task_{i}'.format(i)]))"
   ]
  },
  {
   "cell_type": "code",
   "execution_count": null,
   "metadata": {},
   "outputs": [],
   "source": []
  },
  {
   "cell_type": "code",
   "execution_count": 175,
   "metadata": {},
   "outputs": [],
   "source": [
    "def make_weight_multi(task_list):\n",
    "    task_dct = Counter(task_list)\n",
    "    task_dct = dict(sorted(task_dct.items()))\n",
    "    del task_dct[-1]\n",
    "    inv_list = []\n",
    "    for i in range(len(task_dct.keys())):\n",
    "        inv_list.append(sum(np.array(list(task_dct.values()))) / (task_dct[i]+1e-16))\n",
    "    return inv_list / sum(inv_list)"
   ]
  },
  {
   "cell_type": "code",
   "execution_count": 176,
   "metadata": {},
   "outputs": [
    {
     "name": "stdout",
     "output_type": "stream",
     "text": [
      "22번째 task에서의 weight: [0.02604825 0.36883271 0.23082857 0.10911587 0.18184929 0.08332531]\n",
      "23번째 task에서의 weight: [1.56384098e-02 7.48118462e-03 1.32822829e-04 2.61799853e-02\n",
      " 7.59219575e-01 1.91348023e-01]\n",
      "24번째 task에서의 weight: [0.01799729 0.05513065 0.11623186 0.37119331 0.43944689]\n",
      "25번째 task에서의 weight: [0.01799812 0.09891459 0.09129632 0.32956744 0.46222352]\n",
      "26번째 task에서의 weight: [0.0067478  0.02027087 0.03689895 0.14224644 0.79383594]\n",
      "27번째 task에서의 weight: [0.84437757 0.05745262 0.09816981]\n"
     ]
    }
   ],
   "source": [
    "for i in range(22,28):\n",
    "    print(f'{i}번째 task에서의 weight:', make_weight_multi(globals()[f'task_{i}'.format(i)]))"
   ]
  },
  {
   "cell_type": "code",
   "execution_count": 187,
   "metadata": {},
   "outputs": [],
   "source": [
    "binary_weights = []\n",
    "for i in range(0,22):\n",
    "    binary_weights.append([np.around(make_weight_binary(globals()[f'task_{i}'.format(i)]),2)])"
   ]
  },
  {
   "cell_type": "code",
   "execution_count": 188,
   "metadata": {},
   "outputs": [
    {
     "data": {
      "text/plain": [
       "[[122.4],\n",
       " [11.72],\n",
       " [12.79],\n",
       " [3.28],\n",
       " [5.13],\n",
       " [1.01],\n",
       " [2.52],\n",
       " [2.47],\n",
       " [2.69],\n",
       " [0.44],\n",
       " [1.25],\n",
       " [2.14],\n",
       " [1.8],\n",
       " [247.3],\n",
       " [15.09],\n",
       " [6.1],\n",
       " [51.43],\n",
       " [2.46],\n",
       " [2.77],\n",
       " [2.25],\n",
       " [1.67],\n",
       " [7.45]]"
      ]
     },
     "execution_count": 188,
     "metadata": {},
     "output_type": "execute_result"
    }
   ],
   "source": [
    "binary_weights"
   ]
  },
  {
   "cell_type": "code",
   "execution_count": 173,
   "metadata": {},
   "outputs": [
    {
     "data": {
      "text/plain": [
       "[[0.01, 0.99],\n",
       " [0.08, 0.92],\n",
       " [0.07, 0.93],\n",
       " [0.23, 0.77],\n",
       " [0.16, 0.84],\n",
       " [0.5, 0.5],\n",
       " [0.28, 0.72],\n",
       " [0.29, 0.71],\n",
       " [0.27, 0.73],\n",
       " [0.69, 0.31],\n",
       " [0.44, 0.56],\n",
       " [0.32, 0.68],\n",
       " [0.36, 0.64],\n",
       " [0.0, 1.0],\n",
       " [0.06, 0.94],\n",
       " [0.14, 0.86],\n",
       " [0.02, 0.98],\n",
       " [0.29, 0.71],\n",
       " [0.27, 0.73],\n",
       " [0.31, 0.69],\n",
       " [0.37, 0.63],\n",
       " [0.12, 0.88]]"
      ]
     },
     "execution_count": 173,
     "metadata": {},
     "output_type": "execute_result"
    }
   ],
   "source": [
    "for sample in binary_weights:\n",
    "    sample[]sample[0]"
   ]
  },
  {
   "cell_type": "code",
   "execution_count": 178,
   "metadata": {},
   "outputs": [],
   "source": [
    "multi_weights = []\n",
    "for i in range(22,28):\n",
    "    multi_weights.append(list(np.around(make_weight_multi(globals()[f'task_{i}'.format(i)]),2)))"
   ]
  },
  {
   "cell_type": "code",
   "execution_count": 179,
   "metadata": {},
   "outputs": [
    {
     "data": {
      "text/plain": [
       "[[0.03, 0.37, 0.23, 0.11, 0.18, 0.08],\n",
       " [0.02, 0.01, 0.0, 0.03, 0.76, 0.19],\n",
       " [0.02, 0.06, 0.12, 0.37, 0.44],\n",
       " [0.02, 0.1, 0.09, 0.33, 0.46],\n",
       " [0.01, 0.02, 0.04, 0.14, 0.79],\n",
       " [0.84, 0.06, 0.1]]"
      ]
     },
     "execution_count": 179,
     "metadata": {},
     "output_type": "execute_result"
    }
   ],
   "source": [
    "multi_weights"
   ]
  },
  {
   "cell_type": "code",
   "execution_count": null,
   "metadata": {},
   "outputs": [],
   "source": []
  }
 ],
 "metadata": {
  "kernelspec": {
   "display_name": "ta",
   "language": "python",
   "name": "python3"
  },
  "language_info": {
   "codemirror_mode": {
    "name": "ipython",
    "version": 3
   },
   "file_extension": ".py",
   "mimetype": "text/x-python",
   "name": "python",
   "nbconvert_exporter": "python",
   "pygments_lexer": "ipython3",
   "version": "3.8.16"
  },
  "orig_nbformat": 4
 },
 "nbformat": 4,
 "nbformat_minor": 2
}
